{
 "cells": [
  {
   "cell_type": "code",
   "execution_count": null,
   "metadata": {},
   "outputs": [],
   "source": []
  },
  {
   "cell_type": "markdown",
   "metadata": {},
   "source": [
    "Coding Challenge: Student Grades Analysis\n",
    "Problem Statement\n",
    "You are given a list of tuples where each tuple contains a student's name and their grade in a particular subject. Your task is to write a function that processes this data and returns a summary in the form of a dictionary. The dictionary should include the following:\n",
    "\n",
    "Each student's average grade.\n",
    "The highest grade received by any student.\n",
    "The lowest grade received by any student.\n",
    "A list of all the students who received the highest grade.\n",
    "Input\n",
    "A list of tuples. Each tuple contains a string (student's name) and an integer (grade).\n",
    "\n",
    "example output:\n",
    "{\n",
    "    'average_grades': {'Alice': 90.0, 'Bob': 85.0, 'Charlie': 77.5},\n",
    "    'highest_grade': 95,\n",
    "    'lowest_grade': 70,\n",
    "    'top_students': ['Alice']\n",
    "}"
   ]
  },
  {
   "cell_type": "code",
   "execution_count": 4,
   "metadata": {},
   "outputs": [
    {
     "ename": "UnboundLocalError",
     "evalue": "cannot access local variable 'lowest_grade' where it is not associated with a value",
     "output_type": "error",
     "traceback": [
      "\u001b[1;31m---------------------------------------------------------------------------\u001b[0m",
      "\u001b[1;31mUnboundLocalError\u001b[0m                         Traceback (most recent call last)",
      "Cell \u001b[1;32mIn[4], line 44\u001b[0m\n\u001b[0;32m     38\u001b[0m     grades_dict[\u001b[38;5;124m\"\u001b[39m\u001b[38;5;124maverage_grades\u001b[39m\u001b[38;5;124m\"\u001b[39m] \u001b[38;5;241m=\u001b[39m total_sum_grade\u001b[38;5;241m/\u001b[39m\u001b[38;5;28mlen\u001b[39m(lst)   \n\u001b[0;32m     41\u001b[0m     \u001b[38;5;28;01mreturn\u001b[39;00m grades_dict\n\u001b[1;32m---> 44\u001b[0m \u001b[38;5;28mprint\u001b[39m(\u001b[43manalyze_grades\u001b[49m\u001b[43m(\u001b[49m\u001b[43mgrades\u001b[49m\u001b[43m)\u001b[49m)\n",
      "Cell \u001b[1;32mIn[4], line 29\u001b[0m, in \u001b[0;36manalyze_grades\u001b[1;34m(lst)\u001b[0m\n\u001b[0;32m     26\u001b[0m \u001b[38;5;28;01mfor\u001b[39;00m name, grade \u001b[38;5;129;01min\u001b[39;00m lst:\n\u001b[0;32m     28\u001b[0m     total_sum_grade \u001b[38;5;241m+\u001b[39m\u001b[38;5;241m=\u001b[39m grade\n\u001b[1;32m---> 29\u001b[0m     \u001b[38;5;28;01mif\u001b[39;00m \u001b[43mlowest_grade\u001b[49m \u001b[38;5;241m>\u001b[39m grade:\n\u001b[0;32m     30\u001b[0m         grades_dict[\u001b[38;5;124m\"\u001b[39m\u001b[38;5;124mlowest_grade\u001b[39m\u001b[38;5;124m\"\u001b[39m] \u001b[38;5;241m=\u001b[39m grade\n\u001b[0;32m     31\u001b[0m         lowest_grade \u001b[38;5;241m=\u001b[39m grade\n",
      "\u001b[1;31mUnboundLocalError\u001b[0m: cannot access local variable 'lowest_grade' where it is not associated with a value"
     ]
    }
   ],
   "source": [
    "# förbättra nedan kod!\n",
    "\n",
    "grades = [\n",
    "    ('Alice', 85),\n",
    "    ('Bob', 90),\n",
    "    ('Alice', 95),\n",
    "    ('Bob', 80),\n",
    "    ('Charlie', 70),\n",
    "    ('Charlie', 85)\n",
    "]\n",
    "\n",
    "\n",
    "def analyze_grades(lst):    \n",
    "    \n",
    "    total_sum_grade = 0  \n",
    "\n",
    "    \n",
    "    grades_dict = {\n",
    "        'average_grades': {},\n",
    "        'highest_grade': float('-inf'),\n",
    "        'lowest_grade': float('inf'),\n",
    "        'top_students': []\n",
    "    }\n",
    "     \n",
    "    \n",
    "    for name, grade in lst:\n",
    "        \n",
    "        total_sum_grade += grade\n",
    "        if lowest_grade > grade:\n",
    "            grades_dict[\"lowest_grade\"] = grade\n",
    "            lowest_grade = grade\n",
    "        if highest_grade < grade:\n",
    "            grades_dict[\"highest_grade\"] = grade\n",
    "            highest_grade = grade\n",
    "            grades_dict[\"top_students\"] = name\n",
    "\n",
    "    \n",
    "    grades_dict[\"average_grades\"] = total_sum_grade/len(lst)   \n",
    "\n",
    "\n",
    "    return grades_dict\n",
    "\n",
    "\n",
    "print(analyze_grades(grades))\n",
    "        "
   ]
  }
 ],
 "metadata": {
  "kernelspec": {
   "display_name": "Python 3",
   "language": "python",
   "name": "python3"
  },
  "language_info": {
   "codemirror_mode": {
    "name": "ipython",
    "version": 3
   },
   "file_extension": ".py",
   "mimetype": "text/x-python",
   "name": "python",
   "nbconvert_exporter": "python",
   "pygments_lexer": "ipython3",
   "version": "3.11.3"
  }
 },
 "nbformat": 4,
 "nbformat_minor": 2
}
